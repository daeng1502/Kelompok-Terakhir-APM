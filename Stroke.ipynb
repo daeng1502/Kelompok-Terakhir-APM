{
 "cells": [
  {
   "cell_type": "code",
   "execution_count": 2,
   "metadata": {},
   "outputs": [],
   "source": [
    "#Import Library\n",
    "import pandas as pd\n",
    "from sklearn.model_selection import train_test_split\n",
    "from sklearn.svm import SVC\n",
    "from sklearn.metrics import accuracy_score\n",
    "from sklearn.preprocessing import StandardScaler\n",
    "from sklearn.preprocessing import OneHotEncoder\n",
    "import matplotlib.pyplot as plt\n",
    "import numpy as np\n",
    "import pickle"
   ]
  },
  {
   "cell_type": "code",
   "execution_count": 3,
   "metadata": {},
   "outputs": [],
   "source": [
    "# Membaca dataset\n",
    "data = pd.read_csv(\"stroke.csv\")"
   ]
  },
  {
   "cell_type": "code",
   "execution_count": 4,
   "metadata": {},
   "outputs": [],
   "source": [
    "# Preprocessing data\n",
    "data = data.dropna()  # Menghapus baris dengan nilai kosong/null"
   ]
  },
  {
   "cell_type": "code",
   "execution_count": 5,
   "metadata": {},
   "outputs": [],
   "source": [
    "# Memisahkan atribut dan label\n",
    "X = data.drop(\"stroke\", axis=1)\n",
    "y = data[\"stroke\"]"
   ]
  },
  {
   "cell_type": "code",
   "execution_count": 6,
   "metadata": {},
   "outputs": [],
   "source": [
    "# Membagi data menjadi data latih dan data uji\n",
    "X_train, X_test, y_train, y_test = train_test_split(X, y, test_size=0.1, random_state=42)"
   ]
  },
  {
   "cell_type": "code",
   "execution_count": 7,
   "metadata": {},
   "outputs": [
    {
     "data": {
      "text/html": [
       "<div>\n",
       "<style scoped>\n",
       "    .dataframe tbody tr th:only-of-type {\n",
       "        vertical-align: middle;\n",
       "    }\n",
       "\n",
       "    .dataframe tbody tr th {\n",
       "        vertical-align: top;\n",
       "    }\n",
       "\n",
       "    .dataframe thead th {\n",
       "        text-align: right;\n",
       "    }\n",
       "</style>\n",
       "<table border=\"1\" class=\"dataframe\">\n",
       "  <thead>\n",
       "    <tr style=\"text-align: right;\">\n",
       "      <th></th>\n",
       "      <th>gender</th>\n",
       "      <th>age</th>\n",
       "      <th>hypertension</th>\n",
       "      <th>heart_disease</th>\n",
       "      <th>ever_married</th>\n",
       "      <th>work_type</th>\n",
       "      <th>Residence_type</th>\n",
       "      <th>avg_glucose_level</th>\n",
       "      <th>bmi</th>\n",
       "      <th>smoking_status</th>\n",
       "    </tr>\n",
       "  </thead>\n",
       "  <tbody>\n",
       "    <tr>\n",
       "      <th>0</th>\n",
       "      <td>Female</td>\n",
       "      <td>61.0</td>\n",
       "      <td>0</td>\n",
       "      <td>0</td>\n",
       "      <td>Yes</td>\n",
       "      <td>Self-employed</td>\n",
       "      <td>Rural</td>\n",
       "      <td>202.21</td>\n",
       "      <td>31.555602</td>\n",
       "      <td>never smoked</td>\n",
       "    </tr>\n",
       "    <tr>\n",
       "      <th>1</th>\n",
       "      <td>Female</td>\n",
       "      <td>59.0</td>\n",
       "      <td>0</td>\n",
       "      <td>0</td>\n",
       "      <td>Yes</td>\n",
       "      <td>Private</td>\n",
       "      <td>Rural</td>\n",
       "      <td>76.15</td>\n",
       "      <td>30.242937</td>\n",
       "      <td>Unknown</td>\n",
       "    </tr>\n",
       "    <tr>\n",
       "      <th>2</th>\n",
       "      <td>Male</td>\n",
       "      <td>78.0</td>\n",
       "      <td>0</td>\n",
       "      <td>1</td>\n",
       "      <td>Yes</td>\n",
       "      <td>Private</td>\n",
       "      <td>Urban</td>\n",
       "      <td>219.84</td>\n",
       "      <td>30.698951</td>\n",
       "      <td>Unknown</td>\n",
       "    </tr>\n",
       "    <tr>\n",
       "      <th>3</th>\n",
       "      <td>Male</td>\n",
       "      <td>57.0</td>\n",
       "      <td>0</td>\n",
       "      <td>1</td>\n",
       "      <td>No</td>\n",
       "      <td>Govt_job</td>\n",
       "      <td>Urban</td>\n",
       "      <td>217.08</td>\n",
       "      <td>33.808410</td>\n",
       "      <td>Unknown</td>\n",
       "    </tr>\n",
       "    <tr>\n",
       "      <th>4</th>\n",
       "      <td>Male</td>\n",
       "      <td>58.0</td>\n",
       "      <td>0</td>\n",
       "      <td>0</td>\n",
       "      <td>Yes</td>\n",
       "      <td>Private</td>\n",
       "      <td>Rural</td>\n",
       "      <td>189.84</td>\n",
       "      <td>31.378534</td>\n",
       "      <td>Unknown</td>\n",
       "    </tr>\n",
       "  </tbody>\n",
       "</table>\n",
       "</div>"
      ],
      "text/plain": [
       "   gender   age  hypertension  heart_disease ever_married      work_type   \n",
       "0  Female  61.0             0              0          Yes  Self-employed  \\\n",
       "1  Female  59.0             0              0          Yes        Private   \n",
       "2    Male  78.0             0              1          Yes        Private   \n",
       "3    Male  57.0             0              1           No       Govt_job   \n",
       "4    Male  58.0             0              0          Yes        Private   \n",
       "\n",
       "  Residence_type  avg_glucose_level        bmi smoking_status  \n",
       "0          Rural             202.21  31.555602   never smoked  \n",
       "1          Rural              76.15  30.242937        Unknown  \n",
       "2          Urban             219.84  30.698951        Unknown  \n",
       "3          Urban             217.08  33.808410        Unknown  \n",
       "4          Rural             189.84  31.378534        Unknown  "
      ]
     },
     "execution_count": 7,
     "metadata": {},
     "output_type": "execute_result"
    }
   ],
   "source": [
    "X.head()"
   ]
  },
  {
   "cell_type": "code",
   "execution_count": 16,
   "metadata": {},
   "outputs": [
    {
     "data": {
      "text/plain": [
       "array([31.55560242, 30.24293672, 30.69895144, 33.8084096 , 31.37853385,\n",
       "       33.48456809, 30.04254516, 28.31827337, 28.39789267, 29.13978024,\n",
       "       31.60231714, 29.31669184, 27.95491223, 30.49110683, 29.2929531 ,\n",
       "       30.00388075, 30.19957057, 28.20206936, 32.12036908, 29.21083396,\n",
       "       28.07047196, 29.86377495, 29.58332324, 27.9718569 , 27.94089228,\n",
       "       28.94574986, 18.71925975, 29.79052812, 28.75985626, 27.08627617,\n",
       "       27.28212232, 28.08147438, 32.94704544, 27.24339629, 28.73640015,\n",
       "       31.68403147, 30.76368341, 29.7023726 , 33.07902302, 29.97021868,\n",
       "       30.86316293, 33.73757621, 30.06680535, 31.69708599, 29.9973018 ,\n",
       "       31.19814012, 29.85419033, 20.01842736, 33.11724646, 28.98284356,\n",
       "       26.42080738, 29.01650428, 29.78959992, 26.99728227, 28.38347787,\n",
       "       30.37530703, 22.56279754, 30.19632034, 18.89675834, 33.74964927,\n",
       "       29.61260364, 28.59657852, 20.50813017, 31.6065707 , 32.27387095,\n",
       "       31.89971212, 27.41131447, 29.87649092, 28.54569321, 27.17322224,\n",
       "       28.89969576, 32.29329461, 33.69541657, 19.48319479, 33.74640129,\n",
       "       27.24120741, 29.28032172, 30.71967279, 32.05850252, 28.32809594,\n",
       "       28.61994283, 30.0065731 , 35.18860463, 30.27207404, 30.01381075,\n",
       "       30.5381841 , 29.90470956, 30.62483168, 29.1871094 , 33.17294727,\n",
       "       29.75255436, 32.13017978, 20.26379107, 26.30504092, 28.00456648,\n",
       "       29.0814886 , 32.49735906, 17.89929451, 29.83259311, 31.97914377,\n",
       "       26.28452463, 29.66312371, 28.94406791, 26.59200376, 30.18817465,\n",
       "       27.95614301, 31.79192236, 29.98483083, 30.57492845, 31.47526322,\n",
       "       28.02386638, 28.02871647, 32.43801447, 30.55768732, 30.50487156,\n",
       "       30.16233627, 33.8995756 , 19.03363307, 33.54175007, 33.22529657,\n",
       "       25.9253806 , 30.35215308, 31.80910239, 33.48073407, 31.43023936,\n",
       "       29.9271002 , 30.11158594, 30.78198599, 30.97675858, 28.36584509,\n",
       "       30.75318634, 31.75309029, 31.72016553, 29.94814736, 30.54621551,\n",
       "       31.7235095 , 30.68964575, 28.96839363, 29.95130142, 29.43523729,\n",
       "       29.09959344, 31.84307175, 29.74611603, 32.48706846, 30.05697438,\n",
       "       29.99444194, 19.01877564, 26.52751396, 31.86199055, 18.79763795,\n",
       "       25.65407842, 33.46726941, 29.59559556, 31.09830016, 29.7869446 ,\n",
       "       19.42819562, 28.40291026, 31.23118631, 29.23491654, 31.75340319,\n",
       "       31.49742204, 26.43722276, 32.13064964, 20.11991533, 26.52504773,\n",
       "       27.32855856, 31.74926345, 29.42025235, 33.17530861, 31.17927646,\n",
       "       28.64225263, 30.87306208, 30.6976502 , 18.79920979, 32.72165505,\n",
       "       29.75663127, 31.12417217, 31.79830364, 29.09742107])"
      ]
     },
     "execution_count": 16,
     "metadata": {},
     "output_type": "execute_result"
    }
   ],
   "source": [
    "X.bmi.unique()"
   ]
  },
  {
   "cell_type": "code",
   "execution_count": 26,
   "metadata": {},
   "outputs": [
    {
     "data": {
      "text/html": [
       "<style>#sk-container-id-2 {color: black;background-color: white;}#sk-container-id-2 pre{padding: 0;}#sk-container-id-2 div.sk-toggleable {background-color: white;}#sk-container-id-2 label.sk-toggleable__label {cursor: pointer;display: block;width: 100%;margin-bottom: 0;padding: 0.3em;box-sizing: border-box;text-align: center;}#sk-container-id-2 label.sk-toggleable__label-arrow:before {content: \"▸\";float: left;margin-right: 0.25em;color: #696969;}#sk-container-id-2 label.sk-toggleable__label-arrow:hover:before {color: black;}#sk-container-id-2 div.sk-estimator:hover label.sk-toggleable__label-arrow:before {color: black;}#sk-container-id-2 div.sk-toggleable__content {max-height: 0;max-width: 0;overflow: hidden;text-align: left;background-color: #f0f8ff;}#sk-container-id-2 div.sk-toggleable__content pre {margin: 0.2em;color: black;border-radius: 0.25em;background-color: #f0f8ff;}#sk-container-id-2 input.sk-toggleable__control:checked~div.sk-toggleable__content {max-height: 200px;max-width: 100%;overflow: auto;}#sk-container-id-2 input.sk-toggleable__control:checked~label.sk-toggleable__label-arrow:before {content: \"▾\";}#sk-container-id-2 div.sk-estimator input.sk-toggleable__control:checked~label.sk-toggleable__label {background-color: #d4ebff;}#sk-container-id-2 div.sk-label input.sk-toggleable__control:checked~label.sk-toggleable__label {background-color: #d4ebff;}#sk-container-id-2 input.sk-hidden--visually {border: 0;clip: rect(1px 1px 1px 1px);clip: rect(1px, 1px, 1px, 1px);height: 1px;margin: -1px;overflow: hidden;padding: 0;position: absolute;width: 1px;}#sk-container-id-2 div.sk-estimator {font-family: monospace;background-color: #f0f8ff;border: 1px dotted black;border-radius: 0.25em;box-sizing: border-box;margin-bottom: 0.5em;}#sk-container-id-2 div.sk-estimator:hover {background-color: #d4ebff;}#sk-container-id-2 div.sk-parallel-item::after {content: \"\";width: 100%;border-bottom: 1px solid gray;flex-grow: 1;}#sk-container-id-2 div.sk-label:hover label.sk-toggleable__label {background-color: #d4ebff;}#sk-container-id-2 div.sk-serial::before {content: \"\";position: absolute;border-left: 1px solid gray;box-sizing: border-box;top: 0;bottom: 0;left: 50%;z-index: 0;}#sk-container-id-2 div.sk-serial {display: flex;flex-direction: column;align-items: center;background-color: white;padding-right: 0.2em;padding-left: 0.2em;position: relative;}#sk-container-id-2 div.sk-item {position: relative;z-index: 1;}#sk-container-id-2 div.sk-parallel {display: flex;align-items: stretch;justify-content: center;background-color: white;position: relative;}#sk-container-id-2 div.sk-item::before, #sk-container-id-2 div.sk-parallel-item::before {content: \"\";position: absolute;border-left: 1px solid gray;box-sizing: border-box;top: 0;bottom: 0;left: 50%;z-index: -1;}#sk-container-id-2 div.sk-parallel-item {display: flex;flex-direction: column;z-index: 1;position: relative;background-color: white;}#sk-container-id-2 div.sk-parallel-item:first-child::after {align-self: flex-end;width: 50%;}#sk-container-id-2 div.sk-parallel-item:last-child::after {align-self: flex-start;width: 50%;}#sk-container-id-2 div.sk-parallel-item:only-child::after {width: 0;}#sk-container-id-2 div.sk-dashed-wrapped {border: 1px dashed gray;margin: 0 0.4em 0.5em 0.4em;box-sizing: border-box;padding-bottom: 0.4em;background-color: white;}#sk-container-id-2 div.sk-label label {font-family: monospace;font-weight: bold;display: inline-block;line-height: 1.2em;}#sk-container-id-2 div.sk-label-container {text-align: center;}#sk-container-id-2 div.sk-container {/* jupyter's `normalize.less` sets `[hidden] { display: none; }` but bootstrap.min.css set `[hidden] { display: none !important; }` so we also need the `!important` here to be able to override the default hidden behavior on the sphinx rendered scikit-learn.org. See: https://github.com/scikit-learn/scikit-learn/issues/21755 */display: inline-block !important;position: relative;}#sk-container-id-2 div.sk-text-repr-fallback {display: none;}</style><div id=\"sk-container-id-2\" class=\"sk-top-container\"><div class=\"sk-text-repr-fallback\"><pre>Pipeline(steps=[(&#x27;preprocess&#x27;,\n",
       "                 ColumnTransformer(transformers=[(&#x27;cat&#x27;,\n",
       "                                                  Pipeline(steps=[(&#x27;ordinal_encoder&#x27;,\n",
       "                                                                   OneHotEncoder())]),\n",
       "                                                  array([&#x27;gender&#x27;, &#x27;ever_married&#x27;, &#x27;work_type&#x27;, &#x27;Residence_type&#x27;,\n",
       "       &#x27;smoking_status&#x27;], dtype=object)),\n",
       "                                                 (&#x27;num&#x27;,\n",
       "                                                  Pipeline(steps=[(&#x27;numerical_encode&#x27;,\n",
       "                                                                   StandardScaler())]),\n",
       "                                                  array([&#x27;age&#x27;, &#x27;hypertension&#x27;, &#x27;heart_disease&#x27;, &#x27;avg_glucose_level&#x27;, &#x27;bmi&#x27;],\n",
       "      dtype=object))])),\n",
       "                (&#x27;svc&#x27;,\n",
       "                 Pipeline(steps=[(&#x27;model_rf&#x27;,\n",
       "                                  SVC(kernel=&#x27;poly&#x27;, random_state=89))]))])</pre><b>In a Jupyter environment, please rerun this cell to show the HTML representation or trust the notebook. <br />On GitHub, the HTML representation is unable to render, please try loading this page with nbviewer.org.</b></div><div class=\"sk-container\" hidden><div class=\"sk-item sk-dashed-wrapped\"><div class=\"sk-label-container\"><div class=\"sk-label sk-toggleable\"><input class=\"sk-toggleable__control sk-hidden--visually\" id=\"sk-estimator-id-9\" type=\"checkbox\" ><label for=\"sk-estimator-id-9\" class=\"sk-toggleable__label sk-toggleable__label-arrow\">Pipeline</label><div class=\"sk-toggleable__content\"><pre>Pipeline(steps=[(&#x27;preprocess&#x27;,\n",
       "                 ColumnTransformer(transformers=[(&#x27;cat&#x27;,\n",
       "                                                  Pipeline(steps=[(&#x27;ordinal_encoder&#x27;,\n",
       "                                                                   OneHotEncoder())]),\n",
       "                                                  array([&#x27;gender&#x27;, &#x27;ever_married&#x27;, &#x27;work_type&#x27;, &#x27;Residence_type&#x27;,\n",
       "       &#x27;smoking_status&#x27;], dtype=object)),\n",
       "                                                 (&#x27;num&#x27;,\n",
       "                                                  Pipeline(steps=[(&#x27;numerical_encode&#x27;,\n",
       "                                                                   StandardScaler())]),\n",
       "                                                  array([&#x27;age&#x27;, &#x27;hypertension&#x27;, &#x27;heart_disease&#x27;, &#x27;avg_glucose_level&#x27;, &#x27;bmi&#x27;],\n",
       "      dtype=object))])),\n",
       "                (&#x27;svc&#x27;,\n",
       "                 Pipeline(steps=[(&#x27;model_rf&#x27;,\n",
       "                                  SVC(kernel=&#x27;poly&#x27;, random_state=89))]))])</pre></div></div></div><div class=\"sk-serial\"><div class=\"sk-item sk-dashed-wrapped\"><div class=\"sk-label-container\"><div class=\"sk-label sk-toggleable\"><input class=\"sk-toggleable__control sk-hidden--visually\" id=\"sk-estimator-id-10\" type=\"checkbox\" ><label for=\"sk-estimator-id-10\" class=\"sk-toggleable__label sk-toggleable__label-arrow\">preprocess: ColumnTransformer</label><div class=\"sk-toggleable__content\"><pre>ColumnTransformer(transformers=[(&#x27;cat&#x27;,\n",
       "                                 Pipeline(steps=[(&#x27;ordinal_encoder&#x27;,\n",
       "                                                  OneHotEncoder())]),\n",
       "                                 array([&#x27;gender&#x27;, &#x27;ever_married&#x27;, &#x27;work_type&#x27;, &#x27;Residence_type&#x27;,\n",
       "       &#x27;smoking_status&#x27;], dtype=object)),\n",
       "                                (&#x27;num&#x27;,\n",
       "                                 Pipeline(steps=[(&#x27;numerical_encode&#x27;,\n",
       "                                                  StandardScaler())]),\n",
       "                                 array([&#x27;age&#x27;, &#x27;hypertension&#x27;, &#x27;heart_disease&#x27;, &#x27;avg_glucose_level&#x27;, &#x27;bmi&#x27;],\n",
       "      dtype=object))])</pre></div></div></div><div class=\"sk-parallel\"><div class=\"sk-parallel-item\"><div class=\"sk-item\"><div class=\"sk-label-container\"><div class=\"sk-label sk-toggleable\"><input class=\"sk-toggleable__control sk-hidden--visually\" id=\"sk-estimator-id-11\" type=\"checkbox\" ><label for=\"sk-estimator-id-11\" class=\"sk-toggleable__label sk-toggleable__label-arrow\">cat</label><div class=\"sk-toggleable__content\"><pre>[&#x27;gender&#x27; &#x27;ever_married&#x27; &#x27;work_type&#x27; &#x27;Residence_type&#x27; &#x27;smoking_status&#x27;]</pre></div></div></div><div class=\"sk-serial\"><div class=\"sk-item\"><div class=\"sk-serial\"><div class=\"sk-item\"><div class=\"sk-estimator sk-toggleable\"><input class=\"sk-toggleable__control sk-hidden--visually\" id=\"sk-estimator-id-12\" type=\"checkbox\" ><label for=\"sk-estimator-id-12\" class=\"sk-toggleable__label sk-toggleable__label-arrow\">OneHotEncoder</label><div class=\"sk-toggleable__content\"><pre>OneHotEncoder()</pre></div></div></div></div></div></div></div></div><div class=\"sk-parallel-item\"><div class=\"sk-item\"><div class=\"sk-label-container\"><div class=\"sk-label sk-toggleable\"><input class=\"sk-toggleable__control sk-hidden--visually\" id=\"sk-estimator-id-13\" type=\"checkbox\" ><label for=\"sk-estimator-id-13\" class=\"sk-toggleable__label sk-toggleable__label-arrow\">num</label><div class=\"sk-toggleable__content\"><pre>[&#x27;age&#x27; &#x27;hypertension&#x27; &#x27;heart_disease&#x27; &#x27;avg_glucose_level&#x27; &#x27;bmi&#x27;]</pre></div></div></div><div class=\"sk-serial\"><div class=\"sk-item\"><div class=\"sk-serial\"><div class=\"sk-item\"><div class=\"sk-estimator sk-toggleable\"><input class=\"sk-toggleable__control sk-hidden--visually\" id=\"sk-estimator-id-14\" type=\"checkbox\" ><label for=\"sk-estimator-id-14\" class=\"sk-toggleable__label sk-toggleable__label-arrow\">StandardScaler</label><div class=\"sk-toggleable__content\"><pre>StandardScaler()</pre></div></div></div></div></div></div></div></div></div></div><div class=\"sk-item\"><div class=\"sk-label-container\"><div class=\"sk-label sk-toggleable\"><input class=\"sk-toggleable__control sk-hidden--visually\" id=\"sk-estimator-id-15\" type=\"checkbox\" ><label for=\"sk-estimator-id-15\" class=\"sk-toggleable__label sk-toggleable__label-arrow\">svc: Pipeline</label><div class=\"sk-toggleable__content\"><pre>Pipeline(steps=[(&#x27;model_rf&#x27;, SVC(kernel=&#x27;poly&#x27;, random_state=89))])</pre></div></div></div><div class=\"sk-serial\"><div class=\"sk-item\"><div class=\"sk-estimator sk-toggleable\"><input class=\"sk-toggleable__control sk-hidden--visually\" id=\"sk-estimator-id-16\" type=\"checkbox\" ><label for=\"sk-estimator-id-16\" class=\"sk-toggleable__label sk-toggleable__label-arrow\">SVC</label><div class=\"sk-toggleable__content\"><pre>SVC(kernel=&#x27;poly&#x27;, random_state=89)</pre></div></div></div></div></div></div></div></div></div>"
      ],
      "text/plain": [
       "Pipeline(steps=[('preprocess',\n",
       "                 ColumnTransformer(transformers=[('cat',\n",
       "                                                  Pipeline(steps=[('ordinal_encoder',\n",
       "                                                                   OneHotEncoder())]),\n",
       "                                                  array(['gender', 'ever_married', 'work_type', 'Residence_type',\n",
       "       'smoking_status'], dtype=object)),\n",
       "                                                 ('num',\n",
       "                                                  Pipeline(steps=[('numerical_encode',\n",
       "                                                                   StandardScaler())]),\n",
       "                                                  array(['age', 'hypertension', 'heart_disease', 'avg_glucose_level', 'bmi'],\n",
       "      dtype=object))])),\n",
       "                ('svc',\n",
       "                 Pipeline(steps=[('model_rf',\n",
       "                                  SVC(kernel='poly', random_state=89))]))])"
      ]
     },
     "execution_count": 26,
     "metadata": {},
     "output_type": "execute_result"
    }
   ],
   "source": [
    "from sklearn.pipeline import Pipeline\n",
    "from sklearn.compose import ColumnTransformer\n",
    "from sklearn.preprocessing import OrdinalEncoder\n",
    "from sklearn.ensemble import RandomForestClassifier\n",
    "from sklearn.preprocessing import StandardScaler\n",
    "\n",
    "# Memisahkan atribut kategorikal dan angka untuk data train\n",
    "categorical_data_train = X_train[['gender', 'ever_married', 'work_type', \n",
    "                      'Residence_type', 'smoking_status']]\n",
    "\n",
    "numerical_data_train = X_train[['age', 'hypertension', 'heart_disease',\n",
    "                    'avg_glucose_level', 'bmi']]\n",
    "\n",
    "# menggabungkan data train\n",
    "X_train_final = pd.concat([categorical_data_train, numerical_data_train], axis=1)\n",
    "\n",
    "\n",
    "# Memisahkan atribut kategorikal dan angka untuk data test\n",
    "categorical_data_test = X_test[['gender', 'ever_married', 'work_type', \n",
    "                      'Residence_type', 'smoking_status']]\n",
    "\n",
    "numerical_data_test = X_test[['age', 'hypertension', 'heart_disease',\n",
    "                    'avg_glucose_level', 'bmi']]\n",
    "\n",
    "# menggabungkan data test\n",
    "X_test_final = pd.concat([categorical_data_test, numerical_data_test], axis=1)\n",
    "\n",
    "# melakukan load encoder untuk one-hot kategori\n",
    "encoder = OneHotEncoder()\n",
    "\n",
    "# melakukan load scaler untuk stardarisasi fitur\n",
    "scaler = StandardScaler()\n",
    "\n",
    "# mengambil value dari kolom\n",
    "cat_col = categorical_data_train.columns.values\n",
    "num_col = numerical_data_train.columns.values\n",
    "\n",
    "# membuat pipeline data kategori\n",
    "categorical_pipe = Pipeline([\n",
    "    ('ordinal_encoder', OneHotEncoder())\n",
    "    ])\n",
    "\n",
    "# membuat pipeline data angka\n",
    "numerical_pipe = Pipeline([\n",
    "    ('numerical_encode', StandardScaler())\n",
    "    ])\n",
    "\n",
    "# membuat pipeline model SVM dengan kernel polynomial\n",
    "model_pipe = Pipeline([\n",
    "    ('model_rf', SVC(kernel='poly', random_state=89))\n",
    "    ])\n",
    "\n",
    "# menggabungkan semua pipeline\n",
    "preprocess = ColumnTransformer([\n",
    "    ('cat', categorical_pipe, cat_col),\n",
    "    ('num', numerical_pipe, num_col)\n",
    "    ])\n",
    "\n",
    "\n",
    "pipe = Pipeline(steps=[('preprocess', preprocess), ('svc', model_pipe)])\n",
    "\n",
    "pipe.fit(X_train_final, y_train)"
   ]
  },
  {
   "cell_type": "code",
   "execution_count": 30,
   "metadata": {},
   "outputs": [
    {
     "data": {
      "text/plain": [
       "array([0, 0, 0, 0, 0, 0, 0, 0, 0, 0, 0, 0, 0, 0, 0, 0, 0, 0, 0, 1, 0],\n",
       "      dtype=int64)"
      ]
     },
     "execution_count": 30,
     "metadata": {},
     "output_type": "execute_result"
    }
   ],
   "source": [
    "# Memprediksi label untuk data uji\n",
    "y_pred = pipe.predict(X_test_final)\n",
    "y_pred"
   ]
  },
  {
   "cell_type": "code",
   "execution_count": 31,
   "metadata": {},
   "outputs": [
    {
     "data": {
      "image/png": "[encoded data removed]",
      "text/plain": [
       "<Figure size 800x600 with 1 Axes>"
      ]
     },
     "metadata": {},
     "output_type": "display_data"
    }
   ],
   "source": [
    "# Memvisualisasikan hasil prediksi\n",
    "plt.figure(figsize=(8, 6))\n",
    "plt.scatter(np.arange(len(y_test)), y_test, color='blue', label='Aktual')\n",
    "plt.scatter(np.arange(len(y_pred)), y_pred, color='red', label='Prediksi')\n",
    "plt.title('Hasil Prediksi')\n",
    "plt.xlabel('Data Uji')\n",
    "plt.ylabel('Stroke')\n",
    "plt.legend()\n",
    "plt.show()"
   ]
  },
  {
   "cell_type": "code",
   "execution_count": 32,
   "metadata": {},
   "outputs": [
    {
     "name": "stdout",
     "output_type": "stream",
     "text": [
      "Akurasi: 0.8571428571428571\n"
     ]
    }
   ],
   "source": [
    "# Mengukur akurasi model\n",
    "accuracy = accuracy_score(y_test, y_pred)\n",
    "print(\"Akurasi:\", accuracy)"
   ]
  },
  {
   "cell_type": "code",
   "execution_count": 33,
   "metadata": {},
   "outputs": [],
   "source": [
    "# Simpan model ke dalam file\n",
    "with open('model.pkl', 'wb') as file:\n",
    "    pickle.dump(pipe, file)"
   ]
  }
 ],
 "metadata": {
  "kernelspec": {
   "display_name": "nlp",
   "language": "python",
   "name": "python3"
  },
  "language_info": {
   "codemirror_mode": {
    "name": "ipython",
    "version": 3
   },
   "file_extension": ".py",
   "mimetype": "text/x-python",
   "name": "python",
   "nbconvert_exporter": "python",
   "pygments_lexer": "ipython3",
   "version": "3.10.11"
  },
  "orig_nbformat": 4
 },
 "nbformat": 4,
 "nbformat_minor": 2
}
